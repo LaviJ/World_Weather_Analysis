{
 "cells": [
  {
   "cell_type": "code",
   "execution_count": 1,
   "id": "b19270c9-3e78-40ab-b2c1-9cfc8d29ed76",
   "metadata": {},
   "outputs": [],
   "source": [
    "# Import the random module.\n",
    "import random"
   ]
  },
  {
   "cell_type": "code",
   "execution_count": 2,
   "id": "f00d0c2e-87ce-4998-91a3-521ce1f9fbd4",
   "metadata": {},
   "outputs": [
    {
     "data": {
      "text/plain": [
       "27"
      ]
     },
     "execution_count": 2,
     "metadata": {},
     "output_type": "execute_result"
    }
   ],
   "source": [
    "random.randint(-90, 90)"
   ]
  },
  {
   "cell_type": "code",
   "execution_count": 3,
   "id": "7aa14d87-3fac-4f2a-9e69-bbee4334aef3",
   "metadata": {},
   "outputs": [
    {
     "data": {
      "text/plain": [
       "0.24643907093602102"
      ]
     },
     "execution_count": 3,
     "metadata": {},
     "output_type": "execute_result"
    }
   ],
   "source": [
    "random.random()"
   ]
  },
  {
   "cell_type": "code",
   "execution_count": 5,
   "id": "bcd398c8-9d0c-4d3d-b384-32728eed04f7",
   "metadata": {},
   "outputs": [
    {
     "data": {
      "text/plain": [
       "-51.28660851541886"
      ]
     },
     "execution_count": 5,
     "metadata": {},
     "output_type": "execute_result"
    }
   ],
   "source": [
    "random_number = random.randint(-90, 90) + random.random()\n",
    "random_number"
   ]
  },
  {
   "cell_type": "code",
   "execution_count": 11,
   "id": "688e6842-59e5-45f6-aba8-3008f05a7389",
   "metadata": {},
   "outputs": [],
   "source": [
    "x = 1\n",
    "latitudes = []\n",
    "while x < 11:\n",
    "    random_lat = random.randint(-90, 90) + random.random()\n",
    "    latitudes.append(random_lat)\n",
    "    x += 1"
   ]
  },
  {
   "cell_type": "code",
   "execution_count": 12,
   "id": "6cdd145e-fa07-4982-b31c-7da893293710",
   "metadata": {},
   "outputs": [
    {
     "data": {
      "text/plain": [
       "[78.66622859813928,\n",
       " -30.149770877580682,\n",
       " -80.60170869806316,\n",
       " 33.15061890054219,\n",
       " -19.818169752021248,\n",
       " -28.381526523184853,\n",
       " -77.68213442029308,\n",
       " -68.00762199825276,\n",
       " 33.41452901810999,\n",
       " 68.32577923466954]"
      ]
     },
     "execution_count": 12,
     "metadata": {},
     "output_type": "execute_result"
    }
   ],
   "source": [
    "latitudes"
   ]
  },
  {
   "cell_type": "code",
   "execution_count": 13,
   "id": "62f3dd13-c1bd-4aaf-8b43-4f68a4411c24",
   "metadata": {},
   "outputs": [
    {
     "data": {
      "text/plain": [
       "60"
      ]
     },
     "execution_count": 13,
     "metadata": {},
     "output_type": "execute_result"
    }
   ],
   "source": [
    "random.randrange(-90, 90, step=1)"
   ]
  },
  {
   "cell_type": "code",
   "execution_count": 15,
   "id": "fedfc2fe-60e5-4cbe-9f50-0549985b0492",
   "metadata": {},
   "outputs": [
    {
     "data": {
      "text/plain": [
       "6"
      ]
     },
     "execution_count": 15,
     "metadata": {},
     "output_type": "execute_result"
    }
   ],
   "source": [
    "random.randrange(-90, 90, step=3)"
   ]
  },
  {
   "cell_type": "code",
   "execution_count": 16,
   "id": "439bfddf-f1cd-48a2-b2d4-596be74a312b",
   "metadata": {},
   "outputs": [
    {
     "data": {
      "text/plain": [
       "-36.992837639937626"
      ]
     },
     "execution_count": 16,
     "metadata": {},
     "output_type": "execute_result"
    }
   ],
   "source": [
    "random.uniform(-90, 90)"
   ]
  },
  {
   "cell_type": "code",
   "execution_count": 17,
   "id": "fbef7a5a-09b9-4325-b523-b8c53687e16a",
   "metadata": {},
   "outputs": [],
   "source": [
    "# Import the NumPy module.\n",
    "import numpy as np"
   ]
  },
  {
   "cell_type": "code",
   "execution_count": 18,
   "id": "4a044533-2e0b-4a6a-8781-ea0c2b343567",
   "metadata": {},
   "outputs": [
    {
     "data": {
      "text/plain": [
       "-1.6011270075148616"
      ]
     },
     "execution_count": 18,
     "metadata": {},
     "output_type": "execute_result"
    }
   ],
   "source": [
    "np.random.uniform(-90.000, 90.000)"
   ]
  },
  {
   "cell_type": "code",
   "execution_count": 19,
   "id": "82258070-14a5-4562-8572-d48fae0b6090",
   "metadata": {},
   "outputs": [
    {
     "data": {
      "text/plain": [
       "-0.35722034786601853"
      ]
     },
     "execution_count": 19,
     "metadata": {},
     "output_type": "execute_result"
    }
   ],
   "source": [
    "np.random.uniform(low=-90, high=90)"
   ]
  },
  {
   "cell_type": "code",
   "execution_count": 20,
   "id": "cbc2165d-1127-4628-986d-5730b1570383",
   "metadata": {},
   "outputs": [
    {
     "data": {
      "text/plain": [
       "array([-57.64787403,   5.6613708 , -53.12641857, -69.40408985,\n",
       "        -1.7235489 , -58.86443499, -56.28629372,  23.16912258,\n",
       "       -86.60186832,   2.91252748, -71.93031967,  -7.93520473,\n",
       "       -27.18571978,   1.0709883 ,  48.211139  , -19.6356018 ,\n",
       "        42.98383859, -64.69072097,  50.38020759,  36.65529913,\n",
       "        40.89448564, -36.58097338, -66.45968196,  -5.31019523,\n",
       "       -35.47316395, -39.82698344, -78.22871032,  72.10120136,\n",
       "       -79.102256  ,   2.81143247, -16.90071478, -66.2414068 ,\n",
       "        71.62597406, -45.5163882 ,  47.40163307, -44.79054279,\n",
       "       -51.60686835,  26.46867039,  78.34162122,  37.22850062,\n",
       "       -24.7886764 , -35.08080194, -75.14268973, -48.37624729,\n",
       "       -39.75950754,  71.52971713,  -7.37898547,  67.50389104,\n",
       "       -28.02429786,  32.0510084 ])"
      ]
     },
     "execution_count": 20,
     "metadata": {},
     "output_type": "execute_result"
    }
   ],
   "source": [
    "np.random.uniform(-90.000, 90.000, size=50)"
   ]
  },
  {
   "cell_type": "code",
   "execution_count": 21,
   "id": "35d0c608-7cc7-4e45-9daa-0f2976cc2906",
   "metadata": {},
   "outputs": [],
   "source": [
    "# Import timeit.\n",
    "import timeit"
   ]
  },
  {
   "cell_type": "code",
   "execution_count": 23,
   "id": "632428ef-ea37-4633-ad8e-77ec9c4cad32",
   "metadata": {},
   "outputs": [
    {
     "name": "stdout",
     "output_type": "stream",
     "text": [
      "14.9 µs ± 796 ns per loop (mean ± std. dev. of 7 runs, 100000 loops each)\n"
     ]
    }
   ],
   "source": [
    "%timeit np.random.uniform(-90.000, 90.000, size=1500)"
   ]
  },
  {
   "cell_type": "code",
   "execution_count": 30,
   "id": "32c9022d-9360-48d4-bf98-eff0b35e9ff8",
   "metadata": {},
   "outputs": [
    {
     "name": "stdout",
     "output_type": "stream",
     "text": [
      "1.4 ms ± 93.1 µs per loop (mean ± std. dev. of 7 runs, 1000 loops each)\n"
     ]
    }
   ],
   "source": [
    "def latitudes(size):\n",
    "    latitudes = []\n",
    "    x = 0\n",
    "    while x < (size):\n",
    "        random_lat = random.randint(-90, 90) + random.random()\n",
    "        latitudes.append(random_lat)\n",
    "        x += 1\n",
    "    return latitudes\n",
    "# Call the function with 1500.\n",
    "%timeit latitudes(1500)"
   ]
  },
  {
   "cell_type": "code",
   "execution_count": 32,
   "id": "31085ca2-f6d6-4ff5-9e1e-87f362bef04e",
   "metadata": {},
   "outputs": [
    {
     "name": "stdout",
     "output_type": "stream",
     "text": [
      "589 µs ± 25 µs per loop (mean ± std. dev. of 7 runs, 1000 loops each)\n"
     ]
    }
   ],
   "source": [
    "def latitudes(size):\n",
    "    latitudes = []\n",
    "    x = 0\n",
    "    while x < (size):\n",
    "        random_lat = random.uniform(-90, 90) + random.random()\n",
    "        latitudes.append(random_lat)\n",
    "        x += 1\n",
    "    return latitudes\n",
    "# Call the function with 1500.\n",
    "%timeit latitudes(1500)"
   ]
  },
  {
   "cell_type": "code",
   "execution_count": null,
   "id": "f5cb5544-d1b0-4b32-b385-f5a44b080596",
   "metadata": {},
   "outputs": [],
   "source": []
  }
 ],
 "metadata": {
  "kernelspec": {
   "display_name": "PythonData",
   "language": "python",
   "name": "pythondata"
  },
  "language_info": {
   "codemirror_mode": {
    "name": "ipython",
    "version": 3
   },
   "file_extension": ".py",
   "mimetype": "text/x-python",
   "name": "python",
   "nbconvert_exporter": "python",
   "pygments_lexer": "ipython3",
   "version": "3.9.4"
  }
 },
 "nbformat": 4,
 "nbformat_minor": 5
}
